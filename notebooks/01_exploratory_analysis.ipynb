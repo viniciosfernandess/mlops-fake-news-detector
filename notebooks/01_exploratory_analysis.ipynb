{
 "cells": [
  {
   "cell_type": "code",
   "execution_count": 2,
   "id": "78899e40-71ab-4266-bc1a-5c5871e74fb9",
   "metadata": {},
   "outputs": [
    {
     "name": "stdout",
     "output_type": "stream",
     "text": [
      "Real shape: (21417, 4)\n",
      "Fake shape: (23481, 4)\n"
     ]
    }
   ],
   "source": [
    "import pandas as pd\n",
    "import os\n",
    "\n",
    "raw_path = \"../data/raw/\"\n",
    "real = pd.read_csv(os.path.join(raw_path, \"True.csv\"))\n",
    "fake = pd.read_csv(os.path.join(raw_path, \"Fake.csv\"))\n",
    "\n",
    "print(\"Real shape:\", real.shape)\n",
    "print(\"Fake shape:\", fake.shape)\n"
   ]
  },
  {
   "cell_type": "code",
   "execution_count": 3,
   "id": "7f909327-4b45-432a-8edb-672950f63933",
   "metadata": {},
   "outputs": [
    {
     "data": {
      "text/html": [
       "<div>\n",
       "<style scoped>\n",
       "    .dataframe tbody tr th:only-of-type {\n",
       "        vertical-align: middle;\n",
       "    }\n",
       "\n",
       "    .dataframe tbody tr th {\n",
       "        vertical-align: top;\n",
       "    }\n",
       "\n",
       "    .dataframe thead th {\n",
       "        text-align: right;\n",
       "    }\n",
       "</style>\n",
       "<table border=\"1\" class=\"dataframe\">\n",
       "  <thead>\n",
       "    <tr style=\"text-align: right;\">\n",
       "      <th></th>\n",
       "      <th>title</th>\n",
       "      <th>text</th>\n",
       "      <th>subject</th>\n",
       "      <th>date</th>\n",
       "      <th>label</th>\n",
       "    </tr>\n",
       "  </thead>\n",
       "  <tbody>\n",
       "    <tr>\n",
       "      <th>0</th>\n",
       "      <td>LIVE FEED: PRESIDENT TRUMP Speaks At CPAC – 10...</td>\n",
       "      <td></td>\n",
       "      <td>politics</td>\n",
       "      <td>Feb 24, 2017</td>\n",
       "      <td>0</td>\n",
       "    </tr>\n",
       "    <tr>\n",
       "      <th>1</th>\n",
       "      <td>Libya and Italy to set up operations room to t...</td>\n",
       "      <td>TRIPOLI (Reuters) - Libya s U.N.-backed govern...</td>\n",
       "      <td>worldnews</td>\n",
       "      <td>December 9, 2017</td>\n",
       "      <td>1</td>\n",
       "    </tr>\n",
       "    <tr>\n",
       "      <th>2</th>\n",
       "      <td>Obama digs into research on potential Supreme ...</td>\n",
       "      <td>WASHINGTON (Reuters) - President Barack Obama ...</td>\n",
       "      <td>politicsNews</td>\n",
       "      <td>February 19, 2016</td>\n",
       "      <td>1</td>\n",
       "    </tr>\n",
       "    <tr>\n",
       "      <th>3</th>\n",
       "      <td>U.S. appeals court upholds 'quickie' union ele...</td>\n",
       "      <td>(Reuters) - A U.S. appeals court on Friday dis...</td>\n",
       "      <td>politicsNews</td>\n",
       "      <td>June 10, 2016</td>\n",
       "      <td>1</td>\n",
       "    </tr>\n",
       "    <tr>\n",
       "      <th>4</th>\n",
       "      <td>Ten bodies found in mass grave in Myanmar: arm...</td>\n",
       "      <td>YANGON (Reuters) - Myanmar authorities have fo...</td>\n",
       "      <td>worldnews</td>\n",
       "      <td>December 19, 2017</td>\n",
       "      <td>1</td>\n",
       "    </tr>\n",
       "  </tbody>\n",
       "</table>\n",
       "</div>"
      ],
      "text/plain": [
       "                                               title  \\\n",
       "0  LIVE FEED: PRESIDENT TRUMP Speaks At CPAC – 10...   \n",
       "1  Libya and Italy to set up operations room to t...   \n",
       "2  Obama digs into research on potential Supreme ...   \n",
       "3  U.S. appeals court upholds 'quickie' union ele...   \n",
       "4  Ten bodies found in mass grave in Myanmar: arm...   \n",
       "\n",
       "                                                text       subject  \\\n",
       "0                                                         politics   \n",
       "1  TRIPOLI (Reuters) - Libya s U.N.-backed govern...     worldnews   \n",
       "2  WASHINGTON (Reuters) - President Barack Obama ...  politicsNews   \n",
       "3  (Reuters) - A U.S. appeals court on Friday dis...  politicsNews   \n",
       "4  YANGON (Reuters) - Myanmar authorities have fo...     worldnews   \n",
       "\n",
       "                 date  label  \n",
       "0        Feb 24, 2017      0  \n",
       "1   December 9, 2017       1  \n",
       "2  February 19, 2016       1  \n",
       "3      June 10, 2016       1  \n",
       "4  December 19, 2017       1  "
      ]
     },
     "execution_count": 3,
     "metadata": {},
     "output_type": "execute_result"
    }
   ],
   "source": [
    "real[\"label\"] = 1  # verdadeiro\n",
    "fake[\"label\"] = 0  # falso\n",
    "\n",
    "df = pd.concat([real, fake]).sample(frac=1).reset_index(drop=True)\n",
    "df.head()\n"
   ]
  },
  {
   "cell_type": "code",
   "execution_count": 4,
   "id": "962e6400-da2e-4c3b-9267-f0759292426b",
   "metadata": {},
   "outputs": [
    {
     "data": {
      "text/plain": [
       "Index(['title', 'text', 'subject', 'date', 'label'], dtype='object')"
      ]
     },
     "execution_count": 4,
     "metadata": {},
     "output_type": "execute_result"
    }
   ],
   "source": [
    "df.columns\n"
   ]
  },
  {
   "cell_type": "code",
   "execution_count": 5,
   "id": "a7aafbc9-1b52-468a-982b-cf933c6093ef",
   "metadata": {},
   "outputs": [],
   "source": [
    "df = df[[\"title\", \"text\", \"label\"]].dropna()\n",
    "\n",
    "# Salvar dados processados\n",
    "processed_path = \"../data/processed/\"\n",
    "os.makedirs(processed_path, exist_ok=True)\n",
    "df.to_csv(os.path.join(processed_path, \"clean_fake_news.csv\"), index=False)\n"
   ]
  },
  {
   "cell_type": "code",
   "execution_count": null,
   "id": "7fc12d2b-3f25-4de6-90a9-77ed81073ec6",
   "metadata": {},
   "outputs": [],
   "source": []
  }
 ],
 "metadata": {
  "kernelspec": {
   "display_name": "Python 3 (ipykernel)",
   "language": "python",
   "name": "python3"
  },
  "language_info": {
   "codemirror_mode": {
    "name": "ipython",
    "version": 3
   },
   "file_extension": ".py",
   "mimetype": "text/x-python",
   "name": "python",
   "nbconvert_exporter": "python",
   "pygments_lexer": "ipython3",
   "version": "3.13.4"
  }
 },
 "nbformat": 4,
 "nbformat_minor": 5
}
